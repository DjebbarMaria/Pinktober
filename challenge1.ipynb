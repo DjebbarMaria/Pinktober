{
 "cells": [
  {
   "cell_type": "code",
   "execution_count": null,
   "id": "77f541d6",
   "metadata": {
    "papermill": {
     "duration": 0.003989,
     "end_time": "2023-10-14T19:19:00.976989",
     "exception": false,
     "start_time": "2023-10-14T19:19:00.973000",
     "status": "completed"
    },
    "tags": []
   },
   "outputs": [],
   "source": []
  },
  {
   "cell_type": "code",
   "execution_count": 1,
   "id": "2a664f76",
   "metadata": {
    "execution": {
     "iopub.execute_input": "2023-10-14T19:19:00.987378Z",
     "iopub.status.busy": "2023-10-14T19:19:00.986978Z",
     "iopub.status.idle": "2023-10-14T19:19:03.336980Z",
     "shell.execute_reply": "2023-10-14T19:19:03.335358Z"
    },
    "papermill": {
     "duration": 2.357677,
     "end_time": "2023-10-14T19:19:03.340230",
     "exception": false,
     "start_time": "2023-10-14T19:19:00.982553",
     "status": "completed"
    },
    "tags": []
   },
   "outputs": [],
   "source": [
    "import numpy as np \n",
    "import pandas as pd\n",
    "from sklearn.preprocessing import LabelEncoder\n",
    "from sklearn.model_selection import train_test_split\n",
    "from sklearn.ensemble import RandomForestClassifier\n",
    "from sklearn.metrics import accuracy_score"
   ]
  },
  {
   "cell_type": "code",
   "execution_count": 2,
   "id": "617dc74c",
   "metadata": {
    "execution": {
     "iopub.execute_input": "2023-10-14T19:19:03.349565Z",
     "iopub.status.busy": "2023-10-14T19:19:03.349024Z",
     "iopub.status.idle": "2023-10-14T19:19:03.380592Z",
     "shell.execute_reply": "2023-10-14T19:19:03.379236Z"
    },
    "papermill": {
     "duration": 0.039601,
     "end_time": "2023-10-14T19:19:03.383762",
     "exception": false,
     "start_time": "2023-10-14T19:19:03.344161",
     "status": "completed"
    },
    "tags": []
   },
   "outputs": [],
   "source": [
    "# Charger les données \n",
    "data=pd.read_csv('/kaggle/input/breast-cancer-wisconsin-data/data.csv')"
   ]
  },
  {
   "cell_type": "code",
   "execution_count": 3,
   "id": "061d311a",
   "metadata": {
    "execution": {
     "iopub.execute_input": "2023-10-14T19:19:03.394472Z",
     "iopub.status.busy": "2023-10-14T19:19:03.393742Z",
     "iopub.status.idle": "2023-10-14T19:19:03.435058Z",
     "shell.execute_reply": "2023-10-14T19:19:03.433658Z"
    },
    "papermill": {
     "duration": 0.049964,
     "end_time": "2023-10-14T19:19:03.437857",
     "exception": false,
     "start_time": "2023-10-14T19:19:03.387893",
     "status": "completed"
    },
    "tags": []
   },
   "outputs": [
    {
     "data": {
      "text/html": [
       "<div>\n",
       "<style scoped>\n",
       "    .dataframe tbody tr th:only-of-type {\n",
       "        vertical-align: middle;\n",
       "    }\n",
       "\n",
       "    .dataframe tbody tr th {\n",
       "        vertical-align: top;\n",
       "    }\n",
       "\n",
       "    .dataframe thead th {\n",
       "        text-align: right;\n",
       "    }\n",
       "</style>\n",
       "<table border=\"1\" class=\"dataframe\">\n",
       "  <thead>\n",
       "    <tr style=\"text-align: right;\">\n",
       "      <th></th>\n",
       "      <th>id</th>\n",
       "      <th>diagnosis</th>\n",
       "      <th>radius_mean</th>\n",
       "      <th>texture_mean</th>\n",
       "      <th>perimeter_mean</th>\n",
       "      <th>area_mean</th>\n",
       "      <th>smoothness_mean</th>\n",
       "      <th>compactness_mean</th>\n",
       "      <th>concavity_mean</th>\n",
       "      <th>concave points_mean</th>\n",
       "      <th>...</th>\n",
       "      <th>texture_worst</th>\n",
       "      <th>perimeter_worst</th>\n",
       "      <th>area_worst</th>\n",
       "      <th>smoothness_worst</th>\n",
       "      <th>compactness_worst</th>\n",
       "      <th>concavity_worst</th>\n",
       "      <th>concave points_worst</th>\n",
       "      <th>symmetry_worst</th>\n",
       "      <th>fractal_dimension_worst</th>\n",
       "      <th>Unnamed: 32</th>\n",
       "    </tr>\n",
       "  </thead>\n",
       "  <tbody>\n",
       "    <tr>\n",
       "      <th>0</th>\n",
       "      <td>842302</td>\n",
       "      <td>M</td>\n",
       "      <td>17.99</td>\n",
       "      <td>10.38</td>\n",
       "      <td>122.80</td>\n",
       "      <td>1001.0</td>\n",
       "      <td>0.11840</td>\n",
       "      <td>0.27760</td>\n",
       "      <td>0.3001</td>\n",
       "      <td>0.14710</td>\n",
       "      <td>...</td>\n",
       "      <td>17.33</td>\n",
       "      <td>184.60</td>\n",
       "      <td>2019.0</td>\n",
       "      <td>0.1622</td>\n",
       "      <td>0.6656</td>\n",
       "      <td>0.7119</td>\n",
       "      <td>0.2654</td>\n",
       "      <td>0.4601</td>\n",
       "      <td>0.11890</td>\n",
       "      <td>NaN</td>\n",
       "    </tr>\n",
       "    <tr>\n",
       "      <th>1</th>\n",
       "      <td>842517</td>\n",
       "      <td>M</td>\n",
       "      <td>20.57</td>\n",
       "      <td>17.77</td>\n",
       "      <td>132.90</td>\n",
       "      <td>1326.0</td>\n",
       "      <td>0.08474</td>\n",
       "      <td>0.07864</td>\n",
       "      <td>0.0869</td>\n",
       "      <td>0.07017</td>\n",
       "      <td>...</td>\n",
       "      <td>23.41</td>\n",
       "      <td>158.80</td>\n",
       "      <td>1956.0</td>\n",
       "      <td>0.1238</td>\n",
       "      <td>0.1866</td>\n",
       "      <td>0.2416</td>\n",
       "      <td>0.1860</td>\n",
       "      <td>0.2750</td>\n",
       "      <td>0.08902</td>\n",
       "      <td>NaN</td>\n",
       "    </tr>\n",
       "    <tr>\n",
       "      <th>2</th>\n",
       "      <td>84300903</td>\n",
       "      <td>M</td>\n",
       "      <td>19.69</td>\n",
       "      <td>21.25</td>\n",
       "      <td>130.00</td>\n",
       "      <td>1203.0</td>\n",
       "      <td>0.10960</td>\n",
       "      <td>0.15990</td>\n",
       "      <td>0.1974</td>\n",
       "      <td>0.12790</td>\n",
       "      <td>...</td>\n",
       "      <td>25.53</td>\n",
       "      <td>152.50</td>\n",
       "      <td>1709.0</td>\n",
       "      <td>0.1444</td>\n",
       "      <td>0.4245</td>\n",
       "      <td>0.4504</td>\n",
       "      <td>0.2430</td>\n",
       "      <td>0.3613</td>\n",
       "      <td>0.08758</td>\n",
       "      <td>NaN</td>\n",
       "    </tr>\n",
       "    <tr>\n",
       "      <th>3</th>\n",
       "      <td>84348301</td>\n",
       "      <td>M</td>\n",
       "      <td>11.42</td>\n",
       "      <td>20.38</td>\n",
       "      <td>77.58</td>\n",
       "      <td>386.1</td>\n",
       "      <td>0.14250</td>\n",
       "      <td>0.28390</td>\n",
       "      <td>0.2414</td>\n",
       "      <td>0.10520</td>\n",
       "      <td>...</td>\n",
       "      <td>26.50</td>\n",
       "      <td>98.87</td>\n",
       "      <td>567.7</td>\n",
       "      <td>0.2098</td>\n",
       "      <td>0.8663</td>\n",
       "      <td>0.6869</td>\n",
       "      <td>0.2575</td>\n",
       "      <td>0.6638</td>\n",
       "      <td>0.17300</td>\n",
       "      <td>NaN</td>\n",
       "    </tr>\n",
       "    <tr>\n",
       "      <th>4</th>\n",
       "      <td>84358402</td>\n",
       "      <td>M</td>\n",
       "      <td>20.29</td>\n",
       "      <td>14.34</td>\n",
       "      <td>135.10</td>\n",
       "      <td>1297.0</td>\n",
       "      <td>0.10030</td>\n",
       "      <td>0.13280</td>\n",
       "      <td>0.1980</td>\n",
       "      <td>0.10430</td>\n",
       "      <td>...</td>\n",
       "      <td>16.67</td>\n",
       "      <td>152.20</td>\n",
       "      <td>1575.0</td>\n",
       "      <td>0.1374</td>\n",
       "      <td>0.2050</td>\n",
       "      <td>0.4000</td>\n",
       "      <td>0.1625</td>\n",
       "      <td>0.2364</td>\n",
       "      <td>0.07678</td>\n",
       "      <td>NaN</td>\n",
       "    </tr>\n",
       "  </tbody>\n",
       "</table>\n",
       "<p>5 rows × 33 columns</p>\n",
       "</div>"
      ],
      "text/plain": [
       "         id diagnosis  radius_mean  texture_mean  perimeter_mean  area_mean  \\\n",
       "0    842302         M        17.99         10.38          122.80     1001.0   \n",
       "1    842517         M        20.57         17.77          132.90     1326.0   \n",
       "2  84300903         M        19.69         21.25          130.00     1203.0   \n",
       "3  84348301         M        11.42         20.38           77.58      386.1   \n",
       "4  84358402         M        20.29         14.34          135.10     1297.0   \n",
       "\n",
       "   smoothness_mean  compactness_mean  concavity_mean  concave points_mean  \\\n",
       "0          0.11840           0.27760          0.3001              0.14710   \n",
       "1          0.08474           0.07864          0.0869              0.07017   \n",
       "2          0.10960           0.15990          0.1974              0.12790   \n",
       "3          0.14250           0.28390          0.2414              0.10520   \n",
       "4          0.10030           0.13280          0.1980              0.10430   \n",
       "\n",
       "   ...  texture_worst  perimeter_worst  area_worst  smoothness_worst  \\\n",
       "0  ...          17.33           184.60      2019.0            0.1622   \n",
       "1  ...          23.41           158.80      1956.0            0.1238   \n",
       "2  ...          25.53           152.50      1709.0            0.1444   \n",
       "3  ...          26.50            98.87       567.7            0.2098   \n",
       "4  ...          16.67           152.20      1575.0            0.1374   \n",
       "\n",
       "   compactness_worst  concavity_worst  concave points_worst  symmetry_worst  \\\n",
       "0             0.6656           0.7119                0.2654          0.4601   \n",
       "1             0.1866           0.2416                0.1860          0.2750   \n",
       "2             0.4245           0.4504                0.2430          0.3613   \n",
       "3             0.8663           0.6869                0.2575          0.6638   \n",
       "4             0.2050           0.4000                0.1625          0.2364   \n",
       "\n",
       "   fractal_dimension_worst  Unnamed: 32  \n",
       "0                  0.11890          NaN  \n",
       "1                  0.08902          NaN  \n",
       "2                  0.08758          NaN  \n",
       "3                  0.17300          NaN  \n",
       "4                  0.07678          NaN  \n",
       "\n",
       "[5 rows x 33 columns]"
      ]
     },
     "execution_count": 3,
     "metadata": {},
     "output_type": "execute_result"
    }
   ],
   "source": [
    "# vérification \n",
    "data.head()"
   ]
  },
  {
   "cell_type": "code",
   "execution_count": 4,
   "id": "34f72ba8",
   "metadata": {
    "execution": {
     "iopub.execute_input": "2023-10-14T19:19:03.448776Z",
     "iopub.status.busy": "2023-10-14T19:19:03.447767Z",
     "iopub.status.idle": "2023-10-14T19:19:03.455479Z",
     "shell.execute_reply": "2023-10-14T19:19:03.454670Z"
    },
    "papermill": {
     "duration": 0.015263,
     "end_time": "2023-10-14T19:19:03.457591",
     "exception": false,
     "start_time": "2023-10-14T19:19:03.442328",
     "status": "completed"
    },
    "tags": []
   },
   "outputs": [],
   "source": [
    "#Supprimer les colonnes non pertinentes\n",
    "data.drop(['id', 'Unnamed: 32'], axis=1,inplace=True) "
   ]
  },
  {
   "cell_type": "code",
   "execution_count": 5,
   "id": "fbeba345",
   "metadata": {
    "execution": {
     "iopub.execute_input": "2023-10-14T19:19:03.468552Z",
     "iopub.status.busy": "2023-10-14T19:19:03.467625Z",
     "iopub.status.idle": "2023-10-14T19:19:03.473312Z",
     "shell.execute_reply": "2023-10-14T19:19:03.472223Z"
    },
    "papermill": {
     "duration": 0.013536,
     "end_time": "2023-10-14T19:19:03.475520",
     "exception": false,
     "start_time": "2023-10-14T19:19:03.461984",
     "status": "completed"
    },
    "tags": []
   },
   "outputs": [],
   "source": [
    "\n",
    "label_encoder = LabelEncoder()\n",
    "data['diagnosis'] = label_encoder.fit_transform(data['diagnosis'])"
   ]
  },
  {
   "cell_type": "code",
   "execution_count": 6,
   "id": "8a44889a",
   "metadata": {
    "execution": {
     "iopub.execute_input": "2023-10-14T19:19:03.484706Z",
     "iopub.status.busy": "2023-10-14T19:19:03.484285Z",
     "iopub.status.idle": "2023-10-14T19:19:03.490201Z",
     "shell.execute_reply": "2023-10-14T19:19:03.489115Z"
    },
    "papermill": {
     "duration": 0.013018,
     "end_time": "2023-10-14T19:19:03.492372",
     "exception": false,
     "start_time": "2023-10-14T19:19:03.479354",
     "status": "completed"
    },
    "tags": []
   },
   "outputs": [],
   "source": [
    "X = data.drop('diagnosis', axis=1)\n",
    "y = data['diagnosis']"
   ]
  },
  {
   "cell_type": "code",
   "execution_count": 7,
   "id": "460081ba",
   "metadata": {
    "execution": {
     "iopub.execute_input": "2023-10-14T19:19:03.502003Z",
     "iopub.status.busy": "2023-10-14T19:19:03.501620Z",
     "iopub.status.idle": "2023-10-14T19:19:03.509368Z",
     "shell.execute_reply": "2023-10-14T19:19:03.508063Z"
    },
    "papermill": {
     "duration": 0.015667,
     "end_time": "2023-10-14T19:19:03.511999",
     "exception": false,
     "start_time": "2023-10-14T19:19:03.496332",
     "status": "completed"
    },
    "tags": []
   },
   "outputs": [],
   "source": [
    "from sklearn.model_selection import train_test_split\n",
    "from sklearn.ensemble import RandomForestClassifier\n",
    "from sklearn.metrics import accuracy_score\n",
    "X_train, X_test, y_train, y_test = train_test_split(X, y, test_size=0.2, random_state=43)\n"
   ]
  },
  {
   "cell_type": "code",
   "execution_count": 8,
   "id": "fcac4e6e",
   "metadata": {
    "execution": {
     "iopub.execute_input": "2023-10-14T19:19:03.521705Z",
     "iopub.status.busy": "2023-10-14T19:19:03.521321Z",
     "iopub.status.idle": "2023-10-14T19:19:03.526093Z",
     "shell.execute_reply": "2023-10-14T19:19:03.525332Z"
    },
    "papermill": {
     "duration": 0.011968,
     "end_time": "2023-10-14T19:19:03.528204",
     "exception": false,
     "start_time": "2023-10-14T19:19:03.516236",
     "status": "completed"
    },
    "tags": []
   },
   "outputs": [
    {
     "name": "stdout",
     "output_type": "stream",
     "text": [
      "Nombre de données d'entraînement : 455\n",
      "Nombre de données de test : 114\n"
     ]
    }
   ],
   "source": [
    "print(\"Nombre de données d'entraînement :\", X_train.shape[0])\n",
    "print(\"Nombre de données de test :\", X_test.shape[0])\n"
   ]
  },
  {
   "cell_type": "code",
   "execution_count": 9,
   "id": "dfcad396",
   "metadata": {
    "execution": {
     "iopub.execute_input": "2023-10-14T19:19:03.537623Z",
     "iopub.status.busy": "2023-10-14T19:19:03.536956Z",
     "iopub.status.idle": "2023-10-14T19:19:03.541733Z",
     "shell.execute_reply": "2023-10-14T19:19:03.540475Z"
    },
    "papermill": {
     "duration": 0.011898,
     "end_time": "2023-10-14T19:19:03.543878",
     "exception": false,
     "start_time": "2023-10-14T19:19:03.531980",
     "status": "completed"
    },
    "tags": []
   },
   "outputs": [],
   "source": [
    "#j'ai choisis l'algorithme de RandomForestClassifier car c'est l'algorithme qui convient le mieux \n",
    "#dans le cas de \"Binary Classification\" de plus en comparant avec autres algorithmes RandomForestClassifier \n",
    "#nous donne accurancy le plus élevé "
   ]
  },
  {
   "cell_type": "code",
   "execution_count": 10,
   "id": "f2847879",
   "metadata": {
    "execution": {
     "iopub.execute_input": "2023-10-14T19:19:03.553454Z",
     "iopub.status.busy": "2023-10-14T19:19:03.552818Z",
     "iopub.status.idle": "2023-10-14T19:19:03.790648Z",
     "shell.execute_reply": "2023-10-14T19:19:03.789264Z"
    },
    "papermill": {
     "duration": 0.245323,
     "end_time": "2023-10-14T19:19:03.792990",
     "exception": false,
     "start_time": "2023-10-14T19:19:03.547667",
     "status": "completed"
    },
    "tags": []
   },
   "outputs": [],
   "source": [
    "model = RandomForestClassifier(random_state=43)\n",
    "model.fit(X_train, y_train)\n",
    "y_pred = model.predict(X_test)"
   ]
  },
  {
   "cell_type": "code",
   "execution_count": 11,
   "id": "43a0bbff",
   "metadata": {
    "execution": {
     "iopub.execute_input": "2023-10-14T19:19:03.802454Z",
     "iopub.status.busy": "2023-10-14T19:19:03.802093Z",
     "iopub.status.idle": "2023-10-14T19:19:03.810316Z",
     "shell.execute_reply": "2023-10-14T19:19:03.808968Z"
    },
    "papermill": {
     "duration": 0.016389,
     "end_time": "2023-10-14T19:19:03.813460",
     "exception": false,
     "start_time": "2023-10-14T19:19:03.797071",
     "status": "completed"
    },
    "tags": []
   },
   "outputs": [
    {
     "name": "stdout",
     "output_type": "stream",
     "text": [
      "Accuracy: 0.9912280701754386\n"
     ]
    }
   ],
   "source": [
    "accuracy = accuracy_score(y_test, y_pred)\n",
    "print(\"Accuracy:\", accuracy)"
   ]
  },
  {
   "cell_type": "code",
   "execution_count": null,
   "id": "1193301a",
   "metadata": {
    "papermill": {
     "duration": 0.003549,
     "end_time": "2023-10-14T19:19:03.821634",
     "exception": false,
     "start_time": "2023-10-14T19:19:03.818085",
     "status": "completed"
    },
    "tags": []
   },
   "outputs": [],
   "source": []
  },
  {
   "cell_type": "code",
   "execution_count": null,
   "id": "59d76dee",
   "metadata": {
    "papermill": {
     "duration": 0.003475,
     "end_time": "2023-10-14T19:19:03.829007",
     "exception": false,
     "start_time": "2023-10-14T19:19:03.825532",
     "status": "completed"
    },
    "tags": []
   },
   "outputs": [],
   "source": []
  }
 ],
 "metadata": {
  "kernelspec": {
   "display_name": "Python 3",
   "language": "python",
   "name": "python3"
  },
  "language_info": {
   "codemirror_mode": {
    "name": "ipython",
    "version": 3
   },
   "file_extension": ".py",
   "mimetype": "text/x-python",
   "name": "python",
   "nbconvert_exporter": "python",
   "pygments_lexer": "ipython3",
   "version": "3.10.12"
  },
  "papermill": {
   "default_parameters": {},
   "duration": 6.778117,
   "end_time": "2023-10-14T19:19:04.454251",
   "environment_variables": {},
   "exception": null,
   "input_path": "__notebook__.ipynb",
   "output_path": "__notebook__.ipynb",
   "parameters": {},
   "start_time": "2023-10-14T19:18:57.676134",
   "version": "2.4.0"
  }
 },
 "nbformat": 4,
 "nbformat_minor": 5
}
